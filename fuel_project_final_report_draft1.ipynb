{
 "cells": [
  {
   "cell_type": "markdown",
   "metadata": {},
   "source": [
    "# The Relationship between Fuel Efficiency and Fuel Type"
   ]
  },
  {
   "cell_type": "markdown",
   "metadata": {},
   "source": [
    "## Are Gasoline or Diesel based engines more efficient?\n",
    "Group Members: Zibo Shang, Blaise Appolinary, William Suryawidjaja"
   ]
  },
  {
   "cell_type": "markdown",
   "metadata": {},
   "source": [
    "## 1. Introduction"
   ]
  },
  {
   "cell_type": "markdown",
   "metadata": {},
   "source": [
    "As human civilization expands, metropolitan cities are growing rapidly. As a result, the bigger commuting zone has resulted in the rising demands for a form of transport that is cost-efficient yet provides a sense of privacy for the passenger, the car. \n",
    "\n",
    "Given that, choosing the right car could be a difficult decision to make, as the car types range from family vehicles like sedans and coupes to the high-end, exotic, sport vehicles. In all car types, however, a critical factor to consider is the fuel efficiency. A more efficient car would allow customers to save money on fuel as well as reduce carbon footprints. \n",
    "\n",
    "According to a research conducted by the Universal Technical Institute, they found that diesel cars have 20% more thermal efficiency than gasoline cars. This would suggest that diesel-based cars are more efficient gasoline-based cars as the former are able to transfer heat to energy more efficiently. (Baures, 2019; Chevrolet, 2021; Gas vs. Diesel Engines: What’s the Difference?, 2021). As a follow up to this reserach paper, we have decided to investigate this claim by taking a different measure of fuel efficiency, MPG. \n",
    "\n",
    "* MPG (miles per gallon), is defined as the distance (measured in miles) that a vehicle can travel per gallon of fuel. If a car has a high MPG value, it would suggest that the car is more fuel-efficient. \n",
    "\n",
    "For this project, we will be comparing the means as well as the standard deviations of MPG between diesel-based cars and gasoline-based cars, which would allow us to determine which fuel type is more efficient. Our results will be based on a dataset of Vehicle Fuel Economy Estimates, from 1984-2017, obtained from Kaggle."
   ]
  },
  {
   "cell_type": "markdown",
   "metadata": {},
   "source": [
    "<img src=\"../STAT201_GP_7/intro_pic.png\" width=\"300\" height=\"300\" align=\"center\"/>"
   ]
  },
  {
   "cell_type": "markdown",
   "metadata": {},
   "source": [
    "Introduction Picture (*Gas vs. Diesel Engines: What is the Difference? 2021*)"
   ]
  },
  {
   "cell_type": "markdown",
   "metadata": {},
   "source": [
    "<img src=\"../STAT201_GP_7/intro_pic_2.png\" width=\"400\" height=\"400\" align=\"center\"/>"
   ]
  },
  {
   "cell_type": "markdown",
   "metadata": {},
   "source": [
    "Introduction Picture (*What Is the Difference Between Diesel and Gas? Sweeney Chevrolet. 2021*)"
   ]
  },
  {
   "cell_type": "markdown",
   "metadata": {},
   "source": [
    "## 2. Preliminary Results"
   ]
  },
  {
   "cell_type": "code",
   "execution_count": 10,
   "metadata": {},
   "outputs": [
    {
     "ename": "ERROR",
     "evalue": "Error in library(infer): there is no package called ‘infer’\n",
     "output_type": "error",
     "traceback": [
      "Error in library(infer): there is no package called ‘infer’\nTraceback:\n",
      "1. library(infer)"
     ]
    }
   ],
   "source": [
    "library(tidyverse)\n",
    "library(infer)\n",
    "library(datateachr)\n",
    "library(testthat)\n",
    "library(digest)\n",
    "library(broom)\n",
    "library(cowplot)\n",
    "options(repr.matrix.max.rows = 6)"
   ]
  },
  {
   "cell_type": "markdown",
   "metadata": {},
   "source": [
    "### 2.1 Importing the dataset from Kaggle and loading the data into the Jupyter Notebook"
   ]
  },
  {
   "cell_type": "code",
   "execution_count": 3,
   "metadata": {},
   "outputs": [
    {
     "data": {
      "text/html": [
       "<table>\n",
       "<caption>A data.frame: 6 × 81</caption>\n",
       "<thead>\n",
       "\t<tr><th></th><th scope=col>Vehicle.ID</th><th scope=col>Year</th><th scope=col>Make</th><th scope=col>Model</th><th scope=col>Class</th><th scope=col>Drive</th><th scope=col>Transmission</th><th scope=col>Transmission.Descriptor</th><th scope=col>Engine.Index</th><th scope=col>Engine.Descriptor</th><th scope=col>⋯</th><th scope=col>Hours.to.Charge..AC.240V.</th><th scope=col>Composite.City.MPG</th><th scope=col>Composite.Highway.MPG</th><th scope=col>Composite.Combined.MPG</th><th scope=col>Range..FT1.</th><th scope=col>City.Range..FT1.</th><th scope=col>Highway.Range..FT1.</th><th scope=col>Range..FT2.</th><th scope=col>City.Range..FT2.</th><th scope=col>Highway.Range..FT2.</th></tr>\n",
       "\t<tr><th></th><th scope=col>&lt;int&gt;</th><th scope=col>&lt;int&gt;</th><th scope=col>&lt;chr&gt;</th><th scope=col>&lt;chr&gt;</th><th scope=col>&lt;chr&gt;</th><th scope=col>&lt;chr&gt;</th><th scope=col>&lt;chr&gt;</th><th scope=col>&lt;chr&gt;</th><th scope=col>&lt;int&gt;</th><th scope=col>&lt;chr&gt;</th><th scope=col>⋯</th><th scope=col>&lt;dbl&gt;</th><th scope=col>&lt;int&gt;</th><th scope=col>&lt;int&gt;</th><th scope=col>&lt;int&gt;</th><th scope=col>&lt;int&gt;</th><th scope=col>&lt;dbl&gt;</th><th scope=col>&lt;dbl&gt;</th><th scope=col>&lt;chr&gt;</th><th scope=col>&lt;dbl&gt;</th><th scope=col>&lt;dbl&gt;</th></tr>\n",
       "</thead>\n",
       "<tbody>\n",
       "\t<tr><th scope=row>1</th><td>26587</td><td>1984</td><td>Alfa Romeo</td><td>GT V6 2.5         </td><td>Minicompact Cars           </td><td>             </td><td>Manual 5-Speed   </td><td></td><td>9001</td><td>(FFS)         </td><td>⋯</td><td>0</td><td>0</td><td>0</td><td>0</td><td>0</td><td>0</td><td>0</td><td></td><td>0</td><td>0</td></tr>\n",
       "\t<tr><th scope=row>2</th><td>27705</td><td>1984</td><td>Alfa Romeo</td><td>GT V6 2.5         </td><td>Minicompact Cars           </td><td>             </td><td>Manual 5-Speed   </td><td></td><td>9005</td><td>(FFS) CA model</td><td>⋯</td><td>0</td><td>0</td><td>0</td><td>0</td><td>0</td><td>0</td><td>0</td><td></td><td>0</td><td>0</td></tr>\n",
       "\t<tr><th scope=row>3</th><td>26561</td><td>1984</td><td>Alfa Romeo</td><td>Spider Veloce 2000</td><td>Two Seaters                </td><td>             </td><td>Manual 5-Speed   </td><td></td><td>9002</td><td>(FFS)         </td><td>⋯</td><td>0</td><td>0</td><td>0</td><td>0</td><td>0</td><td>0</td><td>0</td><td></td><td>0</td><td>0</td></tr>\n",
       "\t<tr><th scope=row>4</th><td>27681</td><td>1984</td><td>Alfa Romeo</td><td>Spider Veloce 2000</td><td>Two Seaters                </td><td>             </td><td>Manual 5-Speed   </td><td></td><td>9006</td><td>(FFS) CA model</td><td>⋯</td><td>0</td><td>0</td><td>0</td><td>0</td><td>0</td><td>0</td><td>0</td><td></td><td>0</td><td>0</td></tr>\n",
       "\t<tr><th scope=row>5</th><td>27550</td><td>1984</td><td>AM General</td><td>DJ Po Vehicle 2WD </td><td>Special Purpose Vehicle 2WD</td><td>2-Wheel Drive</td><td>Automatic 3-Speed</td><td></td><td>1830</td><td>(FFS)         </td><td>⋯</td><td>0</td><td>0</td><td>0</td><td>0</td><td>0</td><td>0</td><td>0</td><td></td><td>0</td><td>0</td></tr>\n",
       "\t<tr><th scope=row>6</th><td>28426</td><td>1984</td><td>AM General</td><td>DJ Po Vehicle 2WD </td><td>Special Purpose Vehicle 2WD</td><td>2-Wheel Drive</td><td>Automatic 3-Speed</td><td></td><td>1880</td><td>(FFS) CA model</td><td>⋯</td><td>0</td><td>0</td><td>0</td><td>0</td><td>0</td><td>0</td><td>0</td><td></td><td>0</td><td>0</td></tr>\n",
       "</tbody>\n",
       "</table>\n"
      ],
      "text/latex": [
       "A data.frame: 6 × 81\n",
       "\\begin{tabular}{r|lllllllllllllllllllll}\n",
       "  & Vehicle.ID & Year & Make & Model & Class & Drive & Transmission & Transmission.Descriptor & Engine.Index & Engine.Descriptor & ⋯ & Hours.to.Charge..AC.240V. & Composite.City.MPG & Composite.Highway.MPG & Composite.Combined.MPG & Range..FT1. & City.Range..FT1. & Highway.Range..FT1. & Range..FT2. & City.Range..FT2. & Highway.Range..FT2.\\\\\n",
       "  & <int> & <int> & <chr> & <chr> & <chr> & <chr> & <chr> & <chr> & <int> & <chr> & ⋯ & <dbl> & <int> & <int> & <int> & <int> & <dbl> & <dbl> & <chr> & <dbl> & <dbl>\\\\\n",
       "\\hline\n",
       "\t1 & 26587 & 1984 & Alfa Romeo & GT V6 2.5          & Minicompact Cars            &               & Manual 5-Speed    &  & 9001 & (FFS)          & ⋯ & 0 & 0 & 0 & 0 & 0 & 0 & 0 &  & 0 & 0\\\\\n",
       "\t2 & 27705 & 1984 & Alfa Romeo & GT V6 2.5          & Minicompact Cars            &               & Manual 5-Speed    &  & 9005 & (FFS) CA model & ⋯ & 0 & 0 & 0 & 0 & 0 & 0 & 0 &  & 0 & 0\\\\\n",
       "\t3 & 26561 & 1984 & Alfa Romeo & Spider Veloce 2000 & Two Seaters                 &               & Manual 5-Speed    &  & 9002 & (FFS)          & ⋯ & 0 & 0 & 0 & 0 & 0 & 0 & 0 &  & 0 & 0\\\\\n",
       "\t4 & 27681 & 1984 & Alfa Romeo & Spider Veloce 2000 & Two Seaters                 &               & Manual 5-Speed    &  & 9006 & (FFS) CA model & ⋯ & 0 & 0 & 0 & 0 & 0 & 0 & 0 &  & 0 & 0\\\\\n",
       "\t5 & 27550 & 1984 & AM General & DJ Po Vehicle 2WD  & Special Purpose Vehicle 2WD & 2-Wheel Drive & Automatic 3-Speed &  & 1830 & (FFS)          & ⋯ & 0 & 0 & 0 & 0 & 0 & 0 & 0 &  & 0 & 0\\\\\n",
       "\t6 & 28426 & 1984 & AM General & DJ Po Vehicle 2WD  & Special Purpose Vehicle 2WD & 2-Wheel Drive & Automatic 3-Speed &  & 1880 & (FFS) CA model & ⋯ & 0 & 0 & 0 & 0 & 0 & 0 & 0 &  & 0 & 0\\\\\n",
       "\\end{tabular}\n"
      ],
      "text/markdown": [
       "\n",
       "A data.frame: 6 × 81\n",
       "\n",
       "| <!--/--> | Vehicle.ID &lt;int&gt; | Year &lt;int&gt; | Make &lt;chr&gt; | Model &lt;chr&gt; | Class &lt;chr&gt; | Drive &lt;chr&gt; | Transmission &lt;chr&gt; | Transmission.Descriptor &lt;chr&gt; | Engine.Index &lt;int&gt; | Engine.Descriptor &lt;chr&gt; | ⋯ ⋯ | Hours.to.Charge..AC.240V. &lt;dbl&gt; | Composite.City.MPG &lt;int&gt; | Composite.Highway.MPG &lt;int&gt; | Composite.Combined.MPG &lt;int&gt; | Range..FT1. &lt;int&gt; | City.Range..FT1. &lt;dbl&gt; | Highway.Range..FT1. &lt;dbl&gt; | Range..FT2. &lt;chr&gt; | City.Range..FT2. &lt;dbl&gt; | Highway.Range..FT2. &lt;dbl&gt; |\n",
       "|---|---|---|---|---|---|---|---|---|---|---|---|---|---|---|---|---|---|---|---|---|---|\n",
       "| 1 | 26587 | 1984 | Alfa Romeo | GT V6 2.5          | Minicompact Cars            | <!----> | Manual 5-Speed    | <!----> | 9001 | (FFS)          | ⋯ | 0 | 0 | 0 | 0 | 0 | 0 | 0 | <!----> | 0 | 0 |\n",
       "| 2 | 27705 | 1984 | Alfa Romeo | GT V6 2.5          | Minicompact Cars            | <!----> | Manual 5-Speed    | <!----> | 9005 | (FFS) CA model | ⋯ | 0 | 0 | 0 | 0 | 0 | 0 | 0 | <!----> | 0 | 0 |\n",
       "| 3 | 26561 | 1984 | Alfa Romeo | Spider Veloce 2000 | Two Seaters                 | <!----> | Manual 5-Speed    | <!----> | 9002 | (FFS)          | ⋯ | 0 | 0 | 0 | 0 | 0 | 0 | 0 | <!----> | 0 | 0 |\n",
       "| 4 | 27681 | 1984 | Alfa Romeo | Spider Veloce 2000 | Two Seaters                 | <!----> | Manual 5-Speed    | <!----> | 9006 | (FFS) CA model | ⋯ | 0 | 0 | 0 | 0 | 0 | 0 | 0 | <!----> | 0 | 0 |\n",
       "| 5 | 27550 | 1984 | AM General | DJ Po Vehicle 2WD  | Special Purpose Vehicle 2WD | 2-Wheel Drive | Automatic 3-Speed | <!----> | 1830 | (FFS)          | ⋯ | 0 | 0 | 0 | 0 | 0 | 0 | 0 | <!----> | 0 | 0 |\n",
       "| 6 | 28426 | 1984 | AM General | DJ Po Vehicle 2WD  | Special Purpose Vehicle 2WD | 2-Wheel Drive | Automatic 3-Speed | <!----> | 1880 | (FFS) CA model | ⋯ | 0 | 0 | 0 | 0 | 0 | 0 | 0 | <!----> | 0 | 0 |\n",
       "\n"
      ],
      "text/plain": [
       "  Vehicle.ID Year Make       Model              Class                      \n",
       "1 26587      1984 Alfa Romeo GT V6 2.5          Minicompact Cars           \n",
       "2 27705      1984 Alfa Romeo GT V6 2.5          Minicompact Cars           \n",
       "3 26561      1984 Alfa Romeo Spider Veloce 2000 Two Seaters                \n",
       "4 27681      1984 Alfa Romeo Spider Veloce 2000 Two Seaters                \n",
       "5 27550      1984 AM General DJ Po Vehicle 2WD  Special Purpose Vehicle 2WD\n",
       "6 28426      1984 AM General DJ Po Vehicle 2WD  Special Purpose Vehicle 2WD\n",
       "  Drive         Transmission      Transmission.Descriptor Engine.Index\n",
       "1               Manual 5-Speed                            9001        \n",
       "2               Manual 5-Speed                            9005        \n",
       "3               Manual 5-Speed                            9002        \n",
       "4               Manual 5-Speed                            9006        \n",
       "5 2-Wheel Drive Automatic 3-Speed                         1830        \n",
       "6 2-Wheel Drive Automatic 3-Speed                         1880        \n",
       "  Engine.Descriptor ⋯ Hours.to.Charge..AC.240V. Composite.City.MPG\n",
       "1 (FFS)             ⋯ 0                         0                 \n",
       "2 (FFS) CA model    ⋯ 0                         0                 \n",
       "3 (FFS)             ⋯ 0                         0                 \n",
       "4 (FFS) CA model    ⋯ 0                         0                 \n",
       "5 (FFS)             ⋯ 0                         0                 \n",
       "6 (FFS) CA model    ⋯ 0                         0                 \n",
       "  Composite.Highway.MPG Composite.Combined.MPG Range..FT1. City.Range..FT1.\n",
       "1 0                     0                      0           0               \n",
       "2 0                     0                      0           0               \n",
       "3 0                     0                      0           0               \n",
       "4 0                     0                      0           0               \n",
       "5 0                     0                      0           0               \n",
       "6 0                     0                      0           0               \n",
       "  Highway.Range..FT1. Range..FT2. City.Range..FT2. Highway.Range..FT2.\n",
       "1 0                               0                0                  \n",
       "2 0                               0                0                  \n",
       "3 0                               0                0                  \n",
       "4 0                               0                0                  \n",
       "5 0                               0                0                  \n",
       "6 0                               0                0                  "
      ]
     },
     "metadata": {},
     "output_type": "display_data"
    }
   ],
   "source": [
    "df <- read.csv(\"https://raw.githubusercontent.com/Zibo-S/STAT201_GP_7/main/database.csv\", header = TRUE) \n",
    "     \n",
    "head(df)\n"
   ]
  },
  {
   "cell_type": "markdown",
   "metadata": {},
   "source": [
    "Fig 1.1 The uncleaned dataset"
   ]
  },
  {
   "cell_type": "markdown",
   "metadata": {},
   "source": [
    "### 2.2 Tidying and Cleaning Up Dataset"
   ]
  },
  {
   "cell_type": "code",
   "execution_count": 4,
   "metadata": {},
   "outputs": [
    {
     "data": {
      "text/plain": [
       "\n",
       "                        CNG                      Diesel \n",
       "                         60                        1014 \n",
       "                Electricity             Gasoline or E85 \n",
       "                        133                        1223 \n",
       "    Gasoline or natural gas         Gasoline or propane \n",
       "                         20                           8 \n",
       "                   Midgrade                     Premium \n",
       "                         77                       10133 \n",
       "    Premium and Electricity  Premium Gas or Electricity \n",
       "                         25                          18 \n",
       "             Premium or E85                     Regular \n",
       "                        122                       25258 \n",
       "Regular Gas and Electricity  Regular Gas or Electricity \n",
       "                         20                           2 "
      ]
     },
     "metadata": {},
     "output_type": "display_data"
    }
   ],
   "source": [
    "table(df %>% select('Fuel.Type'))"
   ]
  },
  {
   "cell_type": "markdown",
   "metadata": {},
   "source": [
    "Fig 1.2 The fuel type categories and the corresponding number of examples"
   ]
  },
  {
   "cell_type": "markdown",
   "metadata": {},
   "source": [
    "The dataset that we obtained contains a plethora of different Fuel Types. However, for the purpose of the project, we will only be focusing on two categories of Fuel Types, which are \"Diesel\" and \"Gasoline or E85\". There are a few Fuel Types for the Gasoline cars, but we have chosen the \"Gasoline or E85\" one as the number of examples in that category are similar in number to the diesel ones (Diesel - 1014 Examples, Gasoline or E85 - 1223). Hence, we will filter the dataset for only the examples that have one of the two Fuel Types.\n",
    "\n",
    "* Note, need to call table to show the number of different fuel types that are there and the count for each type. \n",
    "\n",
    "The factors that we are interested in are \n",
    "- MPG in the City (median, interquartile): \n",
    "- MPG in the Highway (median, interquartile );\n",
    "- Annual Fuel Cost (mean, sd);\n",
    "\n",
    "These factors have corresponding columns in the dataset, called City.MPG..FT1 (MPG in the city) in the unit miles, Highway.MPG..FT1 (MPG on the highway) in the unit miles and Annual.Fuel.Cost..FT1 (Annual Fuel Cost) in the unit dollars. Hence, we will select only these columns as well as the Fuel.Types column before we move on with the rest of the investigation. We will also rename the columns for simplicity."
   ]
  },
  {
   "cell_type": "code",
   "execution_count": 5,
   "metadata": {},
   "outputs": [
    {
     "data": {
      "text/html": [
       "<table>\n",
       "<caption>A data.frame: 6 × 4</caption>\n",
       "<thead>\n",
       "\t<tr><th></th><th scope=col>Fuel_Type</th><th scope=col>City_MPG</th><th scope=col>Highway_MPG</th><th scope=col>Price</th></tr>\n",
       "\t<tr><th></th><th scope=col>&lt;chr&gt;</th><th scope=col>&lt;int&gt;</th><th scope=col>&lt;int&gt;</th><th scope=col>&lt;int&gt;</th></tr>\n",
       "</thead>\n",
       "<tbody>\n",
       "\t<tr><th scope=row>1</th><td>Diesel</td><td>21</td><td>31</td><td>1550</td></tr>\n",
       "\t<tr><th scope=row>2</th><td>Diesel</td><td>21</td><td>29</td><td>1600</td></tr>\n",
       "\t<tr><th scope=row>3</th><td>Diesel</td><td>21</td><td>31</td><td>1600</td></tr>\n",
       "\t<tr><th scope=row>4</th><td>Diesel</td><td>21</td><td>31</td><td>1550</td></tr>\n",
       "\t<tr><th scope=row>5</th><td>Diesel</td><td>21</td><td>29</td><td>1600</td></tr>\n",
       "\t<tr><th scope=row>6</th><td>Diesel</td><td>21</td><td>31</td><td>1600</td></tr>\n",
       "</tbody>\n",
       "</table>\n"
      ],
      "text/latex": [
       "A data.frame: 6 × 4\n",
       "\\begin{tabular}{r|llll}\n",
       "  & Fuel\\_Type & City\\_MPG & Highway\\_MPG & Price\\\\\n",
       "  & <chr> & <int> & <int> & <int>\\\\\n",
       "\\hline\n",
       "\t1 & Diesel & 21 & 31 & 1550\\\\\n",
       "\t2 & Diesel & 21 & 29 & 1600\\\\\n",
       "\t3 & Diesel & 21 & 31 & 1600\\\\\n",
       "\t4 & Diesel & 21 & 31 & 1550\\\\\n",
       "\t5 & Diesel & 21 & 29 & 1600\\\\\n",
       "\t6 & Diesel & 21 & 31 & 1600\\\\\n",
       "\\end{tabular}\n"
      ],
      "text/markdown": [
       "\n",
       "A data.frame: 6 × 4\n",
       "\n",
       "| <!--/--> | Fuel_Type &lt;chr&gt; | City_MPG &lt;int&gt; | Highway_MPG &lt;int&gt; | Price &lt;int&gt; |\n",
       "|---|---|---|---|---|\n",
       "| 1 | Diesel | 21 | 31 | 1550 |\n",
       "| 2 | Diesel | 21 | 29 | 1600 |\n",
       "| 3 | Diesel | 21 | 31 | 1600 |\n",
       "| 4 | Diesel | 21 | 31 | 1550 |\n",
       "| 5 | Diesel | 21 | 29 | 1600 |\n",
       "| 6 | Diesel | 21 | 31 | 1600 |\n",
       "\n"
      ],
      "text/plain": [
       "  Fuel_Type City_MPG Highway_MPG Price\n",
       "1 Diesel    21       31          1550 \n",
       "2 Diesel    21       29          1600 \n",
       "3 Diesel    21       31          1600 \n",
       "4 Diesel    21       31          1550 \n",
       "5 Diesel    21       29          1600 \n",
       "6 Diesel    21       31          1600 "
      ]
     },
     "metadata": {},
     "output_type": "display_data"
    }
   ],
   "source": [
    "tidy_data <- df %>%\n",
    "       filter(Fuel.Type == \"Diesel\" | Fuel.Type == \"Gasoline or E85\") %>%\n",
    "       select('Fuel.Type','City.MPG..FT1.', 'Highway.MPG..FT1.', 'Annual.Fuel.Cost..FT1.') %>%\n",
    "       rename(Fuel_Type = Fuel.Type, City_MPG = City.MPG..FT1., Highway_MPG = Highway.MPG..FT1., Price = Annual.Fuel.Cost..FT1.)\n",
    "head(tidy_data)"
   ]
  },
  {
   "cell_type": "markdown",
   "metadata": {},
   "source": [
    "### 2.3 Calculating Sample Parameters "
   ]
  },
  {
   "cell_type": "markdown",
   "metadata": {},
   "source": [
    "##### Caluculate Median and IQR for each factor we are interested in"
   ]
  },
  {
   "cell_type": "code",
   "execution_count": 20,
   "metadata": {},
   "outputs": [
    {
     "data": {
      "text/html": [
       "<span style=white-space:pre-wrap>'Median of Diesel in City:  19'</span>"
      ],
      "text/latex": [
       "'Median of Diesel in City:  19'"
      ],
      "text/markdown": [
       "<span style=white-space:pre-wrap>'Median of Diesel in City:  19'</span>"
      ],
      "text/plain": [
       "[1] \"Median of Diesel in City:  19\""
      ]
     },
     "metadata": {},
     "output_type": "display_data"
    },
    {
     "data": {
      "text/html": [
       "<span style=white-space:pre-wrap>'IQR of Diesel in City:  10'</span>"
      ],
      "text/latex": [
       "'IQR of Diesel in City:  10'"
      ],
      "text/markdown": [
       "<span style=white-space:pre-wrap>'IQR of Diesel in City:  10'</span>"
      ],
      "text/plain": [
       "[1] \"IQR of Diesel in City:  10\""
      ]
     },
     "metadata": {},
     "output_type": "display_data"
    }
   ],
   "source": [
    "filtered_data <- tidy_data %>% filter(Fuel_Type == \"Diesel\") %>% select(Fuel_Type, City_MPG)\n",
    "\n",
    "#City_MPG_Median\n",
    "diesel_median <- median(as.numeric(as.vector(filtered_data$City_MPG)))\n",
    "paste(\"Median of Diesel in City: \",diesel_median)\n",
    "\n",
    "diesel_IQR <- IQR(as.numeric(as.vector(filtered_data$City_MPG)))\n",
    "paste(\"IQR of Diesel in City: \",diesel_IQR)"
   ]
  },
  {
   "cell_type": "code",
   "execution_count": 16,
   "metadata": {},
   "outputs": [
    {
     "data": {
      "text/html": [
       "<span style=white-space:pre-wrap>'Median of Gasoline in City:  15'</span>"
      ],
      "text/latex": [
       "'Median of Gasoline in City:  15'"
      ],
      "text/markdown": [
       "<span style=white-space:pre-wrap>'Median of Gasoline in City:  15'</span>"
      ],
      "text/plain": [
       "[1] \"Median of Gasoline in City:  15\""
      ]
     },
     "metadata": {},
     "output_type": "display_data"
    },
    {
     "data": {
      "text/html": [
       "<span style=white-space:pre-wrap>'IQR of Gasoline in City:  4'</span>"
      ],
      "text/latex": [
       "'IQR of Gasoline in City:  4'"
      ],
      "text/markdown": [
       "<span style=white-space:pre-wrap>'IQR of Gasoline in City:  4'</span>"
      ],
      "text/plain": [
       "[1] \"IQR of Gasoline in City:  4\""
      ]
     },
     "metadata": {},
     "output_type": "display_data"
    }
   ],
   "source": [
    "filtered_data2 <- tidy_data %>% filter(Fuel_Type == \"Gasoline or E85\") %>% select(Fuel_Type, City_MPG)\n",
    "\n",
    "gasoline_median <- median(as.numeric(as.vector(filtered_data2$City_MPG)))\n",
    "paste(\"Median of Gasoline in City: \",gasoline_median)\n",
    "\n",
    "gasoline_IQR <- IQR(as.numeric(as.vector(filtered_data2$City_MPG)))\n",
    "paste(\"IQR of Gasoline in City: \",gasoline_IQR)"
   ]
  },
  {
   "cell_type": "code",
   "execution_count": 19,
   "metadata": {},
   "outputs": [
    {
     "data": {
      "text/html": [
       "<span style=white-space:pre-wrap>'Median of Diesel on Highway:  25'</span>"
      ],
      "text/latex": [
       "'Median of Diesel on Highway:  25'"
      ],
      "text/markdown": [
       "<span style=white-space:pre-wrap>'Median of Diesel on Highway:  25'</span>"
      ],
      "text/plain": [
       "[1] \"Median of Diesel on Highway:  25\""
      ]
     },
     "metadata": {},
     "output_type": "display_data"
    },
    {
     "data": {
      "text/html": [
       "<span style=white-space:pre-wrap>'IQR of Diesel on Highway:  12'</span>"
      ],
      "text/latex": [
       "'IQR of Diesel on Highway:  12'"
      ],
      "text/markdown": [
       "<span style=white-space:pre-wrap>'IQR of Diesel on Highway:  12'</span>"
      ],
      "text/plain": [
       "[1] \"IQR of Diesel on Highway:  12\""
      ]
     },
     "metadata": {},
     "output_type": "display_data"
    }
   ],
   "source": [
    "filtered_data3 <- tidy_data %>% filter(Fuel_Type == \"Diesel\") %>% select(Fuel_Type, Highway_MPG)\n",
    "\n",
    "#City_MPG_Median\n",
    "diesel_H_median <- median(as.numeric(as.vector(filtered_data3$Highway_MPG)))\n",
    "\n",
    "paste(\"Median of Diesel on Highway: \",diesel_H_median)\n",
    "\n",
    "diesel_H_IQR <- IQR(as.numeric(as.vector(filtered_data3$Highway_MPG)))\n",
    "paste(\"IQR of Diesel on Highway: \",diesel_H_IQR)"
   ]
  },
  {
   "cell_type": "code",
   "execution_count": 18,
   "metadata": {},
   "outputs": [
    {
     "data": {
      "text/html": [
       "<span style=white-space:pre-wrap>'Median of Gasoline on Highway:  20'</span>"
      ],
      "text/latex": [
       "'Median of Gasoline on Highway:  20'"
      ],
      "text/markdown": [
       "<span style=white-space:pre-wrap>'Median of Gasoline on Highway:  20'</span>"
      ],
      "text/plain": [
       "[1] \"Median of Gasoline on Highway:  20\""
      ]
     },
     "metadata": {},
     "output_type": "display_data"
    },
    {
     "data": {
      "text/html": [
       "<span style=white-space:pre-wrap>'IQR of Gasoline on Highway:  7'</span>"
      ],
      "text/latex": [
       "'IQR of Gasoline on Highway:  7'"
      ],
      "text/markdown": [
       "<span style=white-space:pre-wrap>'IQR of Gasoline on Highway:  7'</span>"
      ],
      "text/plain": [
       "[1] \"IQR of Gasoline on Highway:  7\""
      ]
     },
     "metadata": {},
     "output_type": "display_data"
    }
   ],
   "source": [
    "filtered_data4 <- tidy_data %>% filter(Fuel_Type == \"Gasoline or E85\") %>% select(Fuel_Type, Highway_MPG)\n",
    "\n",
    "gasoline_H_median <- median(as.numeric(as.vector(filtered_data4$Highway_MPG)))\n",
    "\n",
    "paste(\"Median of Gasoline on Highway: \",gasoline_H_median)\n",
    "\n",
    "gasoline_H_IQR <- IQR(as.numeric(as.vector(filtered_data4$Highway_MPG)))\n",
    "\n",
    "paste(\"IQR of Gasoline on Highway: \",gasoline_H_IQR)"
   ]
  },
  {
   "cell_type": "code",
   "execution_count": 21,
   "metadata": {},
   "outputs": [
    {
     "name": "stdout",
     "output_type": "stream",
     "text": [
      "[1] \"Summary of Medians as below\"\n"
     ]
    },
    {
     "data": {
      "text/html": [
       "<table>\n",
       "<caption>A tibble: 1 × 4</caption>\n",
       "<thead>\n",
       "\t<tr><th scope=col>Diesel in City</th><th scope=col>Diesel on Highway</th><th scope=col>Gasoline in City</th><th scope=col>Gasoline on Highway</th></tr>\n",
       "\t<tr><th scope=col>&lt;dbl&gt;</th><th scope=col>&lt;dbl&gt;</th><th scope=col>&lt;dbl&gt;</th><th scope=col>&lt;dbl&gt;</th></tr>\n",
       "</thead>\n",
       "<tbody>\n",
       "\t<tr><td>19</td><td>25</td><td>15</td><td>20</td></tr>\n",
       "</tbody>\n",
       "</table>\n"
      ],
      "text/latex": [
       "A tibble: 1 × 4\n",
       "\\begin{tabular}{llll}\n",
       " Diesel in City & Diesel on Highway & Gasoline in City & Gasoline on Highway\\\\\n",
       " <dbl> & <dbl> & <dbl> & <dbl>\\\\\n",
       "\\hline\n",
       "\t 19 & 25 & 15 & 20\\\\\n",
       "\\end{tabular}\n"
      ],
      "text/markdown": [
       "\n",
       "A tibble: 1 × 4\n",
       "\n",
       "| Diesel in City &lt;dbl&gt; | Diesel on Highway &lt;dbl&gt; | Gasoline in City &lt;dbl&gt; | Gasoline on Highway &lt;dbl&gt; |\n",
       "|---|---|---|---|\n",
       "| 19 | 25 | 15 | 20 |\n",
       "\n"
      ],
      "text/plain": [
       "  Diesel in City Diesel on Highway Gasoline in City Gasoline on Highway\n",
       "1 19             25                15               20                 "
      ]
     },
     "metadata": {},
     "output_type": "display_data"
    }
   ],
   "source": [
    "summary_medians <- tibble(\"Diesel in City\"=diesel_median , \n",
    "                              \"Diesel on Highway\"=diesel_H_median, \n",
    "                              \"Gasoline in City\"= gasoline_median, \n",
    "                              \"Gasoline on Highway\"=gasoline_H_median\n",
    "                             )\n",
    "print(\"Summary of Medians as below\")\n",
    "summary_medians\n",
    "      \n"
   ]
  },
  {
   "cell_type": "markdown",
   "metadata": {},
   "source": [
    "From our calculations, we discovered that the diesel cars outperform gasoline cars in terms of efficiency for both the city and the highway MPG. However, we will discuss further why we can't draw a conclusion from here."
   ]
  },
  {
   "cell_type": "code",
   "execution_count": 22,
   "metadata": {},
   "outputs": [
    {
     "name": "stdout",
     "output_type": "stream",
     "text": [
      "[1] \"Summary of IQR as below\"\n"
     ]
    },
    {
     "data": {
      "text/html": [
       "<table>\n",
       "<caption>A data.frame: 1 × 4</caption>\n",
       "<thead>\n",
       "\t<tr><th scope=col>Diesel.in.City</th><th scope=col>Diesel.on.Highway</th><th scope=col>Gasoline.in.City</th><th scope=col>Gasoline.on.Highway</th></tr>\n",
       "\t<tr><th scope=col>&lt;dbl&gt;</th><th scope=col>&lt;dbl&gt;</th><th scope=col>&lt;dbl&gt;</th><th scope=col>&lt;dbl&gt;</th></tr>\n",
       "</thead>\n",
       "<tbody>\n",
       "\t<tr><td>10</td><td>12</td><td>4</td><td>7</td></tr>\n",
       "</tbody>\n",
       "</table>\n"
      ],
      "text/latex": [
       "A data.frame: 1 × 4\n",
       "\\begin{tabular}{llll}\n",
       " Diesel.in.City & Diesel.on.Highway & Gasoline.in.City & Gasoline.on.Highway\\\\\n",
       " <dbl> & <dbl> & <dbl> & <dbl>\\\\\n",
       "\\hline\n",
       "\t 10 & 12 & 4 & 7\\\\\n",
       "\\end{tabular}\n"
      ],
      "text/markdown": [
       "\n",
       "A data.frame: 1 × 4\n",
       "\n",
       "| Diesel.in.City &lt;dbl&gt; | Diesel.on.Highway &lt;dbl&gt; | Gasoline.in.City &lt;dbl&gt; | Gasoline.on.Highway &lt;dbl&gt; |\n",
       "|---|---|---|---|\n",
       "| 10 | 12 | 4 | 7 |\n",
       "\n"
      ],
      "text/plain": [
       "  Diesel.in.City Diesel.on.Highway Gasoline.in.City Gasoline.on.Highway\n",
       "1 10             12                4                7                  "
      ]
     },
     "metadata": {},
     "output_type": "display_data"
    }
   ],
   "source": [
    "summary_IQR <- data.frame(\"Diesel in City\"=diesel_IQR , \n",
    "                             \"Diesel on Highway\"=diesel_H_IQR, \n",
    "                              \"Gasoline in City\"= gasoline_IQR, \n",
    "                              \"Gasoline on Highway\"=gasoline_H_IQR\n",
    "                             )\n",
    "print(\"Summary of IQR as below\")\n",
    "summary_IQR"
   ]
  },
  {
   "cell_type": "markdown",
   "metadata": {},
   "source": [
    "As we can see from the table, diesel has a higher IQR range for both the city and highway MPG values, which suggests that although the MPG of diesel cars than gasoline cars are better on average, the MPG may vary a lot from diesel car to car. Additionally, as the difference in their medians is smaller than the difference in IQR values, it also suggests that some gasoline cars might actually be more efficient than diesel cars. "
   ]
  },
  {
   "cell_type": "markdown",
   "metadata": {},
   "source": [
    "### 2.4 Visualizing the distribution of MPG and Price of each group using Histograms\n",
    "*Note, need to add a center line which is the mean of the group"
   ]
  },
  {
   "cell_type": "code",
   "execution_count": 25,
   "metadata": {},
   "outputs": [
    {
     "name": "stderr",
     "output_type": "stream",
     "text": [
      "Warning message:\n",
      "“Ignoring unknown parameters: binwidth, bins, pad”\n"
     ]
    },
    {
     "data": {
      "image/png": "[encoded data removed]",
      "text/plain": [
       "plot without title"
      ]
     },
     "metadata": {
      "image/png": {
       "height": 480,
       "width": 600
      }
     },
     "output_type": "display_data"
    }
   ],
   "source": [
    "options(repr.plot.width=10, repr.plot.height=8)\n",
    "\n",
    "City_Histogram <- tidy_data %>%\n",
    "     select(Fuel_Type, City_MPG) %>%\n",
    "     ggplot() +\n",
    "     geom_histogram(aes(x= City_MPG ,fill = Fuel_Type),position=\"dodge\", stat=\"count\",color=\"darkblue\")+\n",
    "     ggtitle(\"Distribution of MPG For Diesel And Gasoline or E85 in City\") + \n",
    "     xlab(\"MPG\") +\n",
    "     ylab(\"Count\") + \n",
    "    theme(text = element_text(size = 15)) +\n",
    "    theme(axis.text.x = element_text(angle = 45, hjust = 1))+\n",
    "guides(fill=guide_legend(title=\"Fuel Type\"))\n",
    "    \n",
    "City_Histogram"
   ]
  },
  {
   "cell_type": "markdown",
   "metadata": {},
   "source": [
    "Plot I: *Histogram of the Distribution of MPG For Diesel And Gasoline or E85 In City*"
   ]
  },
  {
   "cell_type": "code",
   "execution_count": 26,
   "metadata": {},
   "outputs": [
    {
     "name": "stderr",
     "output_type": "stream",
     "text": [
      "Warning message:\n",
      "“Ignoring unknown parameters: binwidth, bins, pad”\n"
     ]
    },
    {
     "data": {
      "image/png": "[encoded data removed]",
      "text/plain": [
       "plot without title"
      ]
     },
     "metadata": {
      "image/png": {
       "height": 480,
       "width": 600
      }
     },
     "output_type": "display_data"
    }
   ],
   "source": [
    "#$df$\"Fuel Type 1\n",
    "Highway_Histogram <- tidy_data %>%\n",
    "     select(Fuel_Type, Highway_MPG) %>%\n",
    "     ggplot() +\n",
    "     geom_histogram(aes(x= Highway_MPG ,fill = Fuel_Type),position=\"dodge\", stat=\"count\",color=\"darkblue\")+\n",
    "     ggtitle(\"Distribution of MPG For Diesel And Gasoline or E85 On Highway \") + \n",
    "     xlab(\"MPG\") +\n",
    "     ylab(\"Count\") + \n",
    "    theme(text = element_text(size = 15)) +\n",
    "    theme(axis.text.x = element_text(angle = 45, hjust = 1))+\n",
    "guides(fill=guide_legend(title=\"Fuel Type\"))\n",
    "Highway_Histogram"
   ]
  },
  {
   "cell_type": "markdown",
   "metadata": {},
   "source": [
    "Plot II: *Histogram of the Distribution of MPG For Diesel And Gasoline or E85 On Highway*"
   ]
  },
  {
   "cell_type": "code",
   "execution_count": 27,
   "metadata": {},
   "outputs": [
    {
     "name": "stderr",
     "output_type": "stream",
     "text": [
      "Warning message:\n",
      "“Ignoring unknown parameters: binwidth, bins, pad”\n"
     ]
    },
    {
     "data": {
      "image/png": "[encoded data removed]",
      "text/plain": [
       "plot without title"
      ]
     },
     "metadata": {
      "image/png": {
       "height": 480,
       "width": 600
      }
     },
     "output_type": "display_data"
    }
   ],
   "source": [
    "Price_Histogram <- tidy_data %>%\n",
    "     select(Fuel_Type, Price) %>%\n",
    "     ggplot() +\n",
    "     geom_histogram(aes(x= Price ,fill = Fuel_Type) ,position=\"dodge\", stat=\"count\",color=\"darkblue\")+\n",
    "     ggtitle(\"Distribution of Annual Fuel Cost For Diesel And Gasoline or E85 \") + \n",
    "     labs(x = \"Annual Cost in USD\", y = \"Count\")+\n",
    "     theme(text = element_text(size = 15)) +\n",
    "     theme(axis.text.x = element_text(angle = 45, hjust = 1))+ \n",
    "     guides(fill=guide_legend(title=\"Fuel Type\"))\n",
    "Price_Histogram"
   ]
  },
  {
   "cell_type": "markdown",
   "metadata": {},
   "source": [
    "Plot III: *Histogram of the Distribution of Fuel Cost For Diesel And Gasoline or E85*"
   ]
  },
  {
   "cell_type": "markdown",
   "metadata": {},
   "source": [
    "From these histograms, we can see that the distribution of MPG for the diesel and gasoline fuel types are not uniformly distributed; they are unimodal but the distribution is skewed to the right. This is logical as there will be more cars that are less efficient for both fuel types (car manufacturers might focus on lowering the price of the car instead of focusing on efficiency). However, the distribution for the diesel fuel type is much more spread out for both the cases of Highway MPG and City MPG. This observation is captured by the difference in their IQR values. <br>\n",
    "\n",
    "Diesel: (City: 10, Highway: 12) <br>\n",
    "Gasoline: (City: 4, Highway: 7)"
   ]
  },
  {
   "cell_type": "markdown",
   "metadata": {},
   "source": [
    "## 3. Methods"
   ]
  },
  {
   "cell_type": "markdown",
   "metadata": {},
   "source": [
    "### 3.1 Need for further investigation"
   ]
  },
  {
   "cell_type": "markdown",
   "metadata": {},
   "source": [
    "Back when we compared the medians of the dataset, we found that the median of diesel (City: 19, Highway: 25) is higher than the median of gasoline’s (City: 15, Highway: 20) in both the city and highway MPG. This would suggest that diesel-based cars are more efficient than gasoline-based cars due to a higher MPG. \n",
    "\n",
    "However, the dataset that we are working is only a sample of all the diesel and gasoline cars available. Hence, drawing a conclusion here isn’t justified. To explore the dataset further, we will be performing two sample z-test hypothesis tests using bootstrap sampling in order to get a more robust conclusion. "
   ]
  },
  {
   "cell_type": "markdown",
   "metadata": {},
   "source": [
    "### 3.2 Assumptions and Hypotheses"
   ]
  },
  {
   "cell_type": "markdown",
   "metadata": {},
   "source": [
    "An assumption for our hypothesis tests are that the dataset was sampled randomly and each example was independent to one another. This is a fair assumption, as the cars are from different car manufacturers and were produced in different years. As discussed before, our dataset is asymmetrically distributed, which means we would need to have a huge sample size to work with to have the law of big numbers kick in and utilize a Normal Distribution rather than a t-Distribution. This isn't a problem either as our dataset has 1000+ examples for both the diesel and gasoline fuel types. Hence, the approach that we will be taking is justified.\n",
    "\n",
    "We will be performing 2 \"two sample z-tests\"; the first for the difference in City MPG and the second for the difference in Highway MPG.  In each case, we will test be testing the following null and alternative hypotheses:\n",
    "\n",
    "H0: The difference in mean City MPG between Diesel and Gasoline are the same, . <br>\n",
    "H1: The difference in mean City MPG between Diesel and Gasoline are different, . <br>\n",
    "\n",
    "H0: The difference in mean Highway MPG between Diesel and Gasoline are the same, . <br>\n",
    "H1: The difference in mean Highway MPG between Diesel and Gasoline are different, . <br>"
   ]
  },
  {
   "cell_type": "markdown",
   "metadata": {},
   "source": [
    "### 3.3 Expectations and Further Studies"
   ]
  },
  {
   "cell_type": "markdown",
   "metadata": {},
   "source": [
    "We expect to find a relation between the factors we have chosen for fuel type and fuel efficiency. From the plot visualization above, we expect diesel fuel has better efficiency on both city roads and highways. \n",
    "\n",
    "Knowing these factors can help a vehicle customer decide the type of car to save money on fuel spending. The report also gives the customer an option to compare the results with their driving habits, whether they drive more city roads or highways (if a car is more efficient on a highway than in the city and vice versa). This result could lead to future questions regarding the generality of the studies as we are only comparing cars from a specific time range and a selected number of gasoline and diesel cars brands. The project can be repeated with a dataset based on more recent cars and a wider variety of car brands."
   ]
  },
  {
   "cell_type": "markdown",
   "metadata": {},
   "source": [
    "## 4. Hypothesis Testing"
   ]
  },
  {
   "cell_type": "markdown",
   "metadata": {},
   "source": [
    "## 5. Confidence Intervals"
   ]
  },
  {
   "cell_type": "markdown",
   "metadata": {},
   "source": [
    "## 6 References \n",
    "Baures, L. (2019, July 16). Pickup Trucks: Gas vs Diesel. Trusted Auto Professionals. https://tap.fremontmotors.com/pickup-trucks-gas-vs-diesel/\n",
    "\n",
    "Chevrolet, S. (2021, March 10). What Is the Difference Between Diesel and Gas? Sweeney\tChevrolet. https://www.sweeneychevrolet.com/blog/what-is-the-difference-between-diesel-and-gas/\n",
    "\n",
    "Gas vs. Diesel Engines: What’s the Difference? (2021). UTI Corporate. https://www.uti.edu/blog/diesel/gas-vs-diesel-engines"
   ]
  },
  {
   "cell_type": "code",
   "execution_count": 23,
   "metadata": {},
   "outputs": [
    {
     "data": {
      "text/html": [
       "<table>\n",
       "<caption>A tibble: 1 × 10</caption>\n",
       "<thead>\n",
       "\t<tr><th scope=col>estimate</th><th scope=col>estimate1</th><th scope=col>estimate2</th><th scope=col>statistic</th><th scope=col>p.value</th><th scope=col>parameter</th><th scope=col>conf.low</th><th scope=col>conf.high</th><th scope=col>method</th><th scope=col>alternative</th></tr>\n",
       "\t<tr><th scope=col>&lt;dbl&gt;</th><th scope=col>&lt;dbl&gt;</th><th scope=col>&lt;dbl&gt;</th><th scope=col>&lt;dbl&gt;</th><th scope=col>&lt;dbl&gt;</th><th scope=col>&lt;dbl&gt;</th><th scope=col>&lt;dbl&gt;</th><th scope=col>&lt;dbl&gt;</th><th scope=col>&lt;chr&gt;</th><th scope=col>&lt;chr&gt;</th></tr>\n",
       "</thead>\n",
       "<tbody>\n",
       "\t<tr><td>5.81619</td><td>21.22584</td><td>15.40965</td><td>26.98404</td><td>3.997089e-130</td><td>1439.726</td><td>5.39338</td><td>6.239</td><td>Welch Two Sample t-test</td><td>two.sided</td></tr>\n",
       "</tbody>\n",
       "</table>\n"
      ],
      "text/latex": [
       "A tibble: 1 × 10\n",
       "\\begin{tabular}{llllllllll}\n",
       " estimate & estimate1 & estimate2 & statistic & p.value & parameter & conf.low & conf.high & method & alternative\\\\\n",
       " <dbl> & <dbl> & <dbl> & <dbl> & <dbl> & <dbl> & <dbl> & <dbl> & <chr> & <chr>\\\\\n",
       "\\hline\n",
       "\t 5.81619 & 21.22584 & 15.40965 & 26.98404 & 3.997089e-130 & 1439.726 & 5.39338 & 6.239 & Welch Two Sample t-test & two.sided\\\\\n",
       "\\end{tabular}\n"
      ],
      "text/markdown": [
       "\n",
       "A tibble: 1 × 10\n",
       "\n",
       "| estimate &lt;dbl&gt; | estimate1 &lt;dbl&gt; | estimate2 &lt;dbl&gt; | statistic &lt;dbl&gt; | p.value &lt;dbl&gt; | parameter &lt;dbl&gt; | conf.low &lt;dbl&gt; | conf.high &lt;dbl&gt; | method &lt;chr&gt; | alternative &lt;chr&gt; |\n",
       "|---|---|---|---|---|---|---|---|---|---|\n",
       "| 5.81619 | 21.22584 | 15.40965 | 26.98404 | 3.997089e-130 | 1439.726 | 5.39338 | 6.239 | Welch Two Sample t-test | two.sided |\n",
       "\n"
      ],
      "text/plain": [
       "  estimate estimate1 estimate2 statistic p.value       parameter conf.low\n",
       "1 5.81619  21.22584  15.40965  26.98404  3.997089e-130 1439.726  5.39338 \n",
       "  conf.high method                  alternative\n",
       "1 6.239     Welch Two Sample t-test two.sided  "
      ]
     },
     "metadata": {},
     "output_type": "display_data"
    }
   ],
   "source": [
    "# testing <- tidy(t.test(x = df %>% as.numeric(City_MPG)))\n",
    "# tidy_data\n",
    "library(broom)\n",
    "x_data <- tidy_data %>% filter(Fuel_Type == \"Diesel\") %>% pull(as.numeric(City_MPG))\n",
    "y_data <- tidy_data %>% filter(Fuel_Type == \"Gasoline or E85\") %>% pull(as.numeric(City_MPG))\n",
    "city_test <- tidy(\n",
    "            t.test(x = x_data, \n",
    "                   y = y_data, \n",
    "                   alternative = \"two.sided\"))\n",
    "city_test"
   ]
  },
  {
   "cell_type": "code",
   "execution_count": null,
   "metadata": {},
   "outputs": [],
   "source": []
  }
 ],
 "metadata": {
  "kernelspec": {
   "display_name": "R",
   "language": "R",
   "name": "ir"
  },
  "language_info": {
   "codemirror_mode": "r",
   "file_extension": ".r",
   "mimetype": "text/x-r-source",
   "name": "R",
   "pygments_lexer": "r",
   "version": "4.0.2"
  }
 },
 "nbformat": 4,
 "nbformat_minor": 4
}
